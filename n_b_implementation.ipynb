{
 "cells": [
  {
   "cell_type": "code",
   "execution_count": 7,
   "id": "1a416955",
   "metadata": {},
   "outputs": [],
   "source": [
    "import re\n",
    "from collections import defaultdict"
   ]
  },
  {
   "cell_type": "code",
   "execution_count": 4,
   "id": "e48f7f8c",
   "metadata": {},
   "outputs": [],
   "source": [
    "def tokenize(message):\n",
    "    message = message.lower()\n",
    "    all_words = re.findall(\"[a-z0-9']+\", message)\n",
    "    return set(all_words)"
   ]
  },
  {
   "cell_type": "code",
   "execution_count": 5,
   "id": "d974dd9f",
   "metadata": {},
   "outputs": [
    {
     "data": {
      "text/plain": [
       "{'a',\n",
       " 'am',\n",
       " 'become',\n",
       " 'being',\n",
       " 'but',\n",
       " 'future',\n",
       " 'human',\n",
       " 'i',\n",
       " 'in',\n",
       " 'knows',\n",
       " 'man',\n",
       " 'the',\n",
       " 'troll',\n",
       " 'who',\n",
       " 'will'}"
      ]
     },
     "execution_count": 5,
     "metadata": {},
     "output_type": "execute_result"
    }
   ],
   "source": [
    "tok_set = tokenize(\"I am a human being but who knows in the future I will become a troll man\")\n",
    "tok_set"
   ]
  },
  {
   "cell_type": "code",
   "execution_count": 10,
   "id": "4c23f97b",
   "metadata": {},
   "outputs": [],
   "source": [
    "def count_words(training_set):\n",
    "    counts = defaultdict(lambda:[0, 0])\n",
    "    for message, is_spam in training_set:\n",
    "        for word in message:\n",
    "            counts[word][0 if is_spam else 1] += 1\n",
    "    return counts"
   ]
  },
  {
   "cell_type": "code",
   "execution_count": 15,
   "id": "22a964c8",
   "metadata": {},
   "outputs": [],
   "source": [
    "def word_probabilities(counts, total_spams, total_non_spams, k=0.5):\n",
    "    return [(w, (spam + k)/(total_spams + 2*k), (non_spam + k)/(total_non_spams + 2*k)) for w, (spam, non_spam) in counts.items()]"
   ]
  },
  {
   "cell_type": "code",
   "execution_count": 22,
   "id": "f4d57833",
   "metadata": {},
   "outputs": [
    {
     "data": {
      "text/plain": [
       "defaultdict(<function __main__.count_words.<locals>.<lambda>()>,\n",
       "            {'I': [2, 0],\n",
       "             ' ': [16, 0],\n",
       "             'a': [5, 0],\n",
       "             'm': [4, 0],\n",
       "             'h': [3, 0],\n",
       "             'u': [4, 0],\n",
       "             'n': [5, 0],\n",
       "             'b': [3, 0],\n",
       "             'e': [5, 0],\n",
       "             'i': [3, 0],\n",
       "             'g': [1, 0],\n",
       "             't': [4, 0],\n",
       "             'w': [3, 0],\n",
       "             'o': [4, 0],\n",
       "             'k': [1, 0],\n",
       "             's': [1, 0],\n",
       "             'f': [1, 0],\n",
       "             'r': [2, 0],\n",
       "             'l': [4, 0],\n",
       "             'c': [1, 0]})"
      ]
     },
     "execution_count": 22,
     "metadata": {},
     "output_type": "execute_result"
    }
   ],
   "source": [
    "counts = count_words([(\"I am a human being but who knows in the future I will become a troll man\", True)])\n",
    "counts"
   ]
  },
  {
   "cell_type": "code",
   "execution_count": 17,
   "id": "0be589af",
   "metadata": {},
   "outputs": [
    {
     "data": {
      "text/plain": [
       "[('I', 0.19230769230769232, 0.125),\n",
       " (' ', 1.2692307692307692, 0.125),\n",
       " ('a', 0.4230769230769231, 0.125),\n",
       " ('m', 0.34615384615384615, 0.125),\n",
       " ('h', 0.2692307692307692, 0.125),\n",
       " ('u', 0.34615384615384615, 0.125),\n",
       " ('n', 0.4230769230769231, 0.125),\n",
       " ('b', 0.2692307692307692, 0.125),\n",
       " ('e', 0.4230769230769231, 0.125),\n",
       " ('i', 0.2692307692307692, 0.125),\n",
       " ('g', 0.11538461538461539, 0.125),\n",
       " ('t', 0.34615384615384615, 0.125),\n",
       " ('w', 0.2692307692307692, 0.125),\n",
       " ('o', 0.34615384615384615, 0.125),\n",
       " ('k', 0.11538461538461539, 0.125),\n",
       " ('s', 0.11538461538461539, 0.125),\n",
       " ('f', 0.11538461538461539, 0.125),\n",
       " ('r', 0.19230769230769232, 0.125),\n",
       " ('l', 0.34615384615384615, 0.125),\n",
       " ('c', 0.11538461538461539, 0.125)]"
      ]
     },
     "execution_count": 17,
     "metadata": {},
     "output_type": "execute_result"
    }
   ],
   "source": [
    "probs = word_probabilities(counts, 12, 3)\n",
    "probs"
   ]
  },
  {
   "cell_type": "code",
   "execution_count": null,
   "id": "423b10c6",
   "metadata": {},
   "outputs": [],
   "source": []
  }
 ],
 "metadata": {
  "kernelspec": {
   "display_name": "Python 3",
   "language": "python",
   "name": "python3"
  },
  "language_info": {
   "codemirror_mode": {
    "name": "ipython",
    "version": 3
   },
   "file_extension": ".py",
   "mimetype": "text/x-python",
   "name": "python",
   "nbconvert_exporter": "python",
   "pygments_lexer": "ipython3",
   "version": "3.8.8"
  }
 },
 "nbformat": 4,
 "nbformat_minor": 5
}
