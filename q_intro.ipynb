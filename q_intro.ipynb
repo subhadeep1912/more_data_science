{
 "cells": [
  {
   "cell_type": "code",
   "execution_count": 1,
   "id": "886aa24b",
   "metadata": {},
   "outputs": [],
   "source": [
    "import numpy as np\n",
    "\n",
    "alpha = 0.9\n",
    "gamma = 0.75"
   ]
  },
  {
   "cell_type": "code",
   "execution_count": 2,
   "id": "ce4fed0d",
   "metadata": {},
   "outputs": [],
   "source": [
    "location_to_state = {'A': 0,\n",
    "                     'B': 1,\n",
    "                     'C': 2,\n",
    "                     'D': 3,\n",
    "                     'E': 4,\n",
    "                     'F': 5,\n",
    "                     'G': 6,\n",
    "                     'H': 7,\n",
    "                     'I': 8,\n",
    "                     'J': 9,\n",
    "                     'K': 10,\n",
    "                     'L': 11}"
   ]
  },
  {
   "cell_type": "code",
   "execution_count": 3,
   "id": "139c191c",
   "metadata": {},
   "outputs": [],
   "source": [
    "actions = [1, 2, 3, 4, 5, 6, 7, 8, 9, 10, 11]"
   ]
  },
  {
   "cell_type": "code",
   "execution_count": 36,
   "id": "e0680d03",
   "metadata": {},
   "outputs": [],
   "source": [
    "R = np.array([ [0,1,0,0,0,0,0,0,0,0,0,0],\n",
    "             [1,0,1,0,0,1,0,0,0,0,0,0],\n",
    "             [0,1,0,0,0,0,1,0,0,0,0,0],\n",
    "             [0,0,0,0,0,0,0,1,0,0,0,0],\n",
    "             [0,0,0,0,0,0,0,0,1,0,0,0],\n",
    "             [0,1,0,0,0,0,0,0,0,1,0,0],\n",
    "             [0,0,1,0,0,0,1,10,0,0,0,0],\n",
    "             [0,0,0,1,0,0,1,0,0,0,0,1],\n",
    "             [0,0,0,0,1,0,0,0,0,1,0,0],\n",
    "             [0,0,0,0,0,1,0,0,1,0,1,0],\n",
    "             [0,0,0,0,0,0,0,0,0,1,0,1],\n",
    "             [0,0,0,0,0,0,0,1,0,0,1,0]])"
   ]
  },
  {
   "cell_type": "code",
   "execution_count": 37,
   "id": "59ee83bb",
   "metadata": {},
   "outputs": [],
   "source": [
    "Q = np.array(np.zeros([12, 12]))"
   ]
  },
  {
   "cell_type": "code",
   "execution_count": 38,
   "id": "2c6de744",
   "metadata": {},
   "outputs": [],
   "source": [
    "for i in range(1000):\n",
    "    current_state = np.random.randint(0, 12)\n",
    "    playable_actions = []\n",
    "    for j in range(12):\n",
    "        if R[current_state, j] > 0:\n",
    "            playable_actions.append(j)\n",
    "    next_state = np.random.choice(playable_actions)\n",
    "    TD = R[current_state, next_state] + gamma * Q[next_state, np.argmax(Q[next_state,])] - Q[current_state, next_state]\n",
    "    Q[current_state, next_state] = Q[current_state, next_state] + alpha * TD"
   ]
  },
  {
   "cell_type": "code",
   "execution_count": 39,
   "id": "690f0c00",
   "metadata": {},
   "outputs": [
    {
     "name": "stdout",
     "output_type": "stream",
     "text": [
      "[[ 0 12  0  0  0  0  0  0  0  0  0  0]\n",
      " [10  0 15  0  0 10  0  0  0  0  0  0]\n",
      " [ 0 12  0  0  0  0 19  0  0  0  0  0]\n",
      " [ 0  0  0  0  0  0  0 15  0  0  0  0]\n",
      " [ 0  0  0  0  0  0  0  0  7  0  0  0]\n",
      " [ 0 12  0  0  0  0  0  0  0  8  0  0]\n",
      " [ 0  0 15  0  0  0 19 24  0  0  0  0]\n",
      " [ 0  0  0 12  0  0 19  0  0  0  0 12]\n",
      " [ 0  0  0  0  6  0  0  0  0  8  0  0]\n",
      " [ 0  0  0  0  0 10  0  0  7  0 10  0]\n",
      " [ 0  0  0  0  0  0  0  0  0  8  0 12]\n",
      " [ 0  0  0  0  0  0  0 15  0  0 10  0]]\n"
     ]
    }
   ],
   "source": [
    "print(Q.astype(int))"
   ]
  },
  {
   "cell_type": "code",
   "execution_count": 40,
   "id": "ae49955c",
   "metadata": {},
   "outputs": [],
   "source": [
    "state_to_location = {state: location for location, state in location_to_state.items()}"
   ]
  },
  {
   "cell_type": "code",
   "execution_count": 41,
   "id": "08472975",
   "metadata": {},
   "outputs": [],
   "source": [
    "def route(starting_location, ending_location):\n",
    "     route = [starting_location]\n",
    "     next_location = starting_location\n",
    "     while (next_location != ending_location):\n",
    "         starting_state = location_to_state[starting_location]\n",
    "         next_state = np.argmax(Q[starting_state,])\n",
    "         next_location = state_to_location[next_state]\n",
    "         route.append(next_location)\n",
    "         starting_location = next_location\n",
    "     return route"
   ]
  },
  {
   "cell_type": "code",
   "execution_count": 42,
   "id": "e6179e13",
   "metadata": {},
   "outputs": [
    {
     "name": "stdout",
     "output_type": "stream",
     "text": [
      "Route:\n"
     ]
    },
    {
     "data": {
      "text/plain": [
       "['E', 'I', 'J', 'F', 'B', 'C', 'G']"
      ]
     },
     "execution_count": 42,
     "metadata": {},
     "output_type": "execute_result"
    }
   ],
   "source": [
    "print('Route:')\n",
    "route('E', 'G')"
   ]
  },
  {
   "cell_type": "code",
   "execution_count": null,
   "id": "de80a554",
   "metadata": {},
   "outputs": [],
   "source": []
  },
  {
   "cell_type": "code",
   "execution_count": null,
   "id": "f0cd0179",
   "metadata": {},
   "outputs": [],
   "source": []
  }
 ],
 "metadata": {
  "kernelspec": {
   "display_name": "Python 3",
   "language": "python",
   "name": "python3"
  },
  "language_info": {
   "codemirror_mode": {
    "name": "ipython",
    "version": 3
   },
   "file_extension": ".py",
   "mimetype": "text/x-python",
   "name": "python",
   "nbconvert_exporter": "python",
   "pygments_lexer": "ipython3",
   "version": "3.8.8"
  }
 },
 "nbformat": 4,
 "nbformat_minor": 5
}
